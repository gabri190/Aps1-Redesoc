{
 "cells": [
  {
   "cell_type": "markdown",
   "id": "70cdfe5c",
   "metadata": {},
   "source": [
    "## Redes sociais - APS(1)"
   ]
  },
  {
   "cell_type": "markdown",
   "id": "eb3035bd",
   "metadata": {},
   "source": [
    "Diogo Duarte, Pedro Dannecker e Gabriel de Araújo Alves\n",
    "\n"
   ]
  },
  {
   "cell_type": "markdown",
   "id": "6a6d93bb",
   "metadata": {},
   "source": [
    "### Importando bibliotecas"
   ]
  },
  {
   "cell_type": "code",
   "execution_count": 24,
   "id": "edf2ff16",
   "metadata": {},
   "outputs": [],
   "source": [
    "import pandas as pd\n",
    "import csv\n",
    "from graph_tool import Graph\n",
    "import os\n",
    "from graph_tool import util\n",
    "# from netpixi.data.gt import *\n",
    "# import netpixi\n",
    "import netpixi\n",
    "\n",
    "from netpixi.integration.gt import *"
   ]
  },
  {
   "cell_type": "markdown",
   "id": "c6fcf7fd",
   "metadata": {},
   "source": [
    "### Analisando os dados iniciais"
   ]
  },
  {
   "cell_type": "code",
   "execution_count": 25,
   "id": "a5f0b7a4",
   "metadata": {},
   "outputs": [
    {
     "data": {
      "text/html": [
       "<div>\n",
       "<style scoped>\n",
       "    .dataframe tbody tr th:only-of-type {\n",
       "        vertical-align: middle;\n",
       "    }\n",
       "\n",
       "    .dataframe tbody tr th {\n",
       "        vertical-align: top;\n",
       "    }\n",
       "\n",
       "    .dataframe thead th {\n",
       "        text-align: right;\n",
       "    }\n",
       "</style>\n",
       "<table border=\"1\" class=\"dataframe\">\n",
       "  <thead>\n",
       "    <tr style=\"text-align: right;\">\n",
       "      <th></th>\n",
       "      <th>SRC</th>\n",
       "      <th>TGT</th>\n",
       "      <th>VOT</th>\n",
       "      <th>RES</th>\n",
       "      <th>DAT</th>\n",
       "      <th>TXT</th>\n",
       "    </tr>\n",
       "  </thead>\n",
       "  <tbody>\n",
       "    <tr>\n",
       "      <th>0</th>\n",
       "      <td>Steel1943</td>\n",
       "      <td>BDD</td>\n",
       "      <td>1</td>\n",
       "      <td>1</td>\n",
       "      <td>13, 19 April 2013</td>\n",
       "      <td>'''Support''' as co-nom.</td>\n",
       "    </tr>\n",
       "    <tr>\n",
       "      <th>1</th>\n",
       "      <td>Cuchullain</td>\n",
       "      <td>BDD</td>\n",
       "      <td>1</td>\n",
       "      <td>1</td>\n",
       "      <td>04, 20 April 2013</td>\n",
       "      <td>'''Support''' as nominator.--</td>\n",
       "    </tr>\n",
       "    <tr>\n",
       "      <th>2</th>\n",
       "      <td>INeverCry</td>\n",
       "      <td>BDD</td>\n",
       "      <td>1</td>\n",
       "      <td>1</td>\n",
       "      <td>43, 19 April 2013</td>\n",
       "      <td>'''Support''' per noms.</td>\n",
       "    </tr>\n",
       "    <tr>\n",
       "      <th>3</th>\n",
       "      <td>Cncmaster</td>\n",
       "      <td>BDD</td>\n",
       "      <td>1</td>\n",
       "      <td>1</td>\n",
       "      <td>11, 20 April 2013</td>\n",
       "      <td>'''Support''' per noms. BDD is a strong contri...</td>\n",
       "    </tr>\n",
       "    <tr>\n",
       "      <th>4</th>\n",
       "      <td>Miniapolis</td>\n",
       "      <td>BDD</td>\n",
       "      <td>1</td>\n",
       "      <td>1</td>\n",
       "      <td>56, 20 April 2013</td>\n",
       "      <td>GOCE|Guild of Copy Editors]] (where we're both...</td>\n",
       "    </tr>\n",
       "    <tr>\n",
       "      <th>...</th>\n",
       "      <td>...</td>\n",
       "      <td>...</td>\n",
       "      <td>...</td>\n",
       "      <td>...</td>\n",
       "      <td>...</td>\n",
       "      <td>...</td>\n",
       "    </tr>\n",
       "    <tr>\n",
       "      <th>198270</th>\n",
       "      <td>172</td>\n",
       "      <td>Vancouverguy</td>\n",
       "      <td>1</td>\n",
       "      <td>1</td>\n",
       "      <td>51, 2 Sep 2003</td>\n",
       "      <td>Support</td>\n",
       "    </tr>\n",
       "    <tr>\n",
       "      <th>198271</th>\n",
       "      <td>Angela</td>\n",
       "      <td>WhisperToMe</td>\n",
       "      <td>1</td>\n",
       "      <td>1</td>\n",
       "      <td>45, 26 Nov 2003</td>\n",
       "      <td>Support.</td>\n",
       "    </tr>\n",
       "    <tr>\n",
       "      <th>198272</th>\n",
       "      <td>Jiang</td>\n",
       "      <td>WhisperToMe</td>\n",
       "      <td>1</td>\n",
       "      <td>1</td>\n",
       "      <td></td>\n",
       "      <td>Support. --</td>\n",
       "    </tr>\n",
       "    <tr>\n",
       "      <th>198273</th>\n",
       "      <td>Pakaran</td>\n",
       "      <td>WhisperToMe</td>\n",
       "      <td>1</td>\n",
       "      <td>1</td>\n",
       "      <td>38, 5 Dec 2003</td>\n",
       "      <td>Support.  Age has nothing to do with maturity....</td>\n",
       "    </tr>\n",
       "    <tr>\n",
       "      <th>198274</th>\n",
       "      <td>Jimregan</td>\n",
       "      <td>Zanimum</td>\n",
       "      <td>1</td>\n",
       "      <td>1</td>\n",
       "      <td></td>\n",
       "      <td>Support - anyone who can write so much, and so...</td>\n",
       "    </tr>\n",
       "  </tbody>\n",
       "</table>\n",
       "<p>198275 rows × 6 columns</p>\n",
       "</div>"
      ],
      "text/plain": [
       "               SRC           TGT VOT RES                DAT  \\\n",
       "0        Steel1943           BDD   1   1  13, 19 April 2013   \n",
       "1       Cuchullain           BDD   1   1  04, 20 April 2013   \n",
       "2        INeverCry           BDD   1   1  43, 19 April 2013   \n",
       "3        Cncmaster           BDD   1   1  11, 20 April 2013   \n",
       "4       Miniapolis           BDD   1   1  56, 20 April 2013   \n",
       "...            ...           ...  ..  ..                ...   \n",
       "198270         172  Vancouverguy   1   1     51, 2 Sep 2003   \n",
       "198271      Angela   WhisperToMe   1   1    45, 26 Nov 2003   \n",
       "198272       Jiang   WhisperToMe   1   1                      \n",
       "198273     Pakaran   WhisperToMe   1   1     38, 5 Dec 2003   \n",
       "198274    Jimregan       Zanimum   1   1                      \n",
       "\n",
       "                                                      TXT  \n",
       "0                                '''Support''' as co-nom.  \n",
       "1                           '''Support''' as nominator.--  \n",
       "2                                 '''Support''' per noms.  \n",
       "3       '''Support''' per noms. BDD is a strong contri...  \n",
       "4       GOCE|Guild of Copy Editors]] (where we're both...  \n",
       "...                                                   ...  \n",
       "198270                                            Support  \n",
       "198271                                           Support.  \n",
       "198272                                        Support. --  \n",
       "198273  Support.  Age has nothing to do with maturity....  \n",
       "198274  Support - anyone who can write so much, and so...  \n",
       "\n",
       "[198275 rows x 6 columns]"
      ]
     },
     "execution_count": 25,
     "metadata": {},
     "output_type": "execute_result"
    }
   ],
   "source": [
    "import re\n",
    "import pandas as pd\n",
    "\n",
    "#first u have to open  the file and seperate every line like below:\n",
    "\n",
    "df = open('wiki-RfA.txt', \"r\")\n",
    "lines = df.readlines()\n",
    "df.close()\n",
    "\n",
    "# remove /n at the end of each line\n",
    "for index, line in enumerate(lines):\n",
    "       lines[index] = line.strip()\n",
    "\n",
    "lines\n",
    "\n",
    "\n",
    "\n",
    "# #creating a dataframe(consider u want to convert your data to 2 columns)\n",
    "\n",
    "df_result = pd.DataFrame(columns=('SRC','TGT','VOT','RES','DAT','TXT'))\n",
    "list_src=[]\n",
    "list_tgt=[]\n",
    "list_vot=[]\n",
    "list_res=[]\n",
    "list_dat=[]\n",
    "list_txt=[]\n",
    "\n",
    "for line in lines:\n",
    "    if line.split(':')[0]=='SRC':\n",
    "        list_src.append(line.split(':')[-1])\n",
    "    elif line.split(':')[0]=='TGT':\n",
    "        list_tgt.append(line.split(':')[-1])\n",
    "    elif line.split(':')[0]=='VOT':\n",
    "        list_vot.append(line.split(':')[-1])\n",
    "    elif line.split(':')[0]=='RES':\n",
    "        list_res.append(line.split(':')[-1])\n",
    "    elif line.split(':')[0]=='DAT':\n",
    "        list_dat.append(line.split(':')[-1])\n",
    "    elif line.split(':')[0]=='TXT':\n",
    "        list_txt.append(line.split(':')[-1])\n",
    "    elif line.split(':')[0]==' ':\n",
    "        pass\n",
    "\n",
    "df_result['SRC']=list_src\n",
    "df_result['TGT']=list_tgt\n",
    "df_result['VOT']=list_vot\n",
    "df_result['RES']=list_res\n",
    "df_result['DAT']=list_dat\n",
    "df_result['TXT']=list_txt\n",
    "\n",
    "df_result"
   ]
  },
  {
   "cell_type": "code",
   "execution_count": 26,
   "id": "aa9773a6",
   "metadata": {},
   "outputs": [
    {
     "data": {
      "text/plain": [
       "Unknown           1661\n",
       "Siva1979          1232\n",
       "Mailer diablo      998\n",
       "Merovingian        916\n",
       "Wizardman          810\n",
       "                  ... \n",
       "Nunquam Dormio       1\n",
       "Eastlaw              1\n",
       "Yossiea              1\n",
       "P.wormer             1\n",
       "Nydigoveth           1\n",
       "Name: SRC, Length: 10415, dtype: int64"
      ]
     },
     "execution_count": 26,
     "metadata": {},
     "output_type": "execute_result"
    }
   ],
   "source": [
    "df_result['SRC']=df_result['SRC'].replace('','Unknown')\n",
    "df_result['SRC'].value_counts()"
   ]
  },
  {
   "cell_type": "code",
   "execution_count": 27,
   "id": "41c90cea",
   "metadata": {},
   "outputs": [],
   "source": [
    "list_voters=df_result['SRC'].value_counts().index"
   ]
  },
  {
   "cell_type": "code",
   "execution_count": 28,
   "id": "b4c10984",
   "metadata": {},
   "outputs": [
    {
     "data": {
      "text/plain": [
       "1232"
      ]
     },
     "execution_count": 28,
     "metadata": {},
     "output_type": "execute_result"
    }
   ],
   "source": [
    "len(df_result.SRC[df_result.SRC=='Siva1979'])"
   ]
  },
  {
   "cell_type": "code",
   "execution_count": 29,
   "id": "f346f25e",
   "metadata": {},
   "outputs": [
    {
     "data": {
      "text/plain": [
       "4"
      ]
     },
     "execution_count": 29,
     "metadata": {},
     "output_type": "execute_result"
    }
   ],
   "source": [
    "len(df_result.SRC[df_result.SRC=='Steel1943'])"
   ]
  },
  {
   "cell_type": "code",
   "execution_count": 30,
   "id": "14b45298",
   "metadata": {},
   "outputs": [
    {
     "data": {
      "text/plain": [
       "1661"
      ]
     },
     "execution_count": 30,
     "metadata": {},
     "output_type": "execute_result"
    }
   ],
   "source": [
    "len(df_result.SRC[df_result.SRC=='Unknown'])"
   ]
  },
  {
   "cell_type": "markdown",
   "id": "3d4008e0",
   "metadata": {},
   "source": [
    "#### Retirando valores neutros da  coluna VOT"
   ]
  },
  {
   "cell_type": "code",
   "execution_count": 31,
   "id": "29ea6970",
   "metadata": {},
   "outputs": [],
   "source": [
    "df_result_new=df_result[df_result.VOT!='0']\n"
   ]
  },
  {
   "cell_type": "code",
   "execution_count": 32,
   "id": "6b3f2883",
   "metadata": {},
   "outputs": [],
   "source": [
    "list_targets=df_result_new.TGT.unique()\n"
   ]
  },
  {
   "cell_type": "markdown",
   "id": "4dc54472",
   "metadata": {},
   "source": [
    "### Criando o grafo"
   ]
  },
  {
   "cell_type": "code",
   "execution_count": 33,
   "id": "b3b06d44",
   "metadata": {},
   "outputs": [],
   "source": [
    "from netpixi.integration.gt import Graph\n",
    "\n",
    "g = Graph(directed=True) # dirigido"
   ]
  },
  {
   "cell_type": "markdown",
   "id": "3e951a9a",
   "metadata": {},
   "source": [
    "### Criando vertices"
   ]
  },
  {
   "cell_type": "code",
   "execution_count": 34,
   "id": "9f9f5c43",
   "metadata": {},
   "outputs": [],
   "source": [
    "for voter in list_voters:\n",
    "    g.add_vertex(voter)"
   ]
  },
  {
   "cell_type": "code",
   "execution_count": 35,
   "id": "38793e80",
   "metadata": {},
   "outputs": [
    {
     "name": "stdout",
     "output_type": "stream",
     "text": [
      "número de vértices de g: 10415\n"
     ]
    }
   ],
   "source": [
    "print('número de vértices de g:', g.num_vertices())"
   ]
  },
  {
   "cell_type": "markdown",
   "id": "62ed734f",
   "metadata": {},
   "source": [
    "### Adicionando propriedades aos vértices"
   ]
  },
  {
   "cell_type": "code",
   "execution_count": 36,
   "id": "aaeba0fe",
   "metadata": {},
   "outputs": [],
   "source": [
    "values_voters=df_result.SRC.value_counts().values\n",
    "\n",
    "for voter,value in zip(list_voters,values_voters):\n",
    "    g.add_gp(voter)\n",
    "    g[voter]=value "
   ]
  },
  {
   "cell_type": "markdown",
   "id": "06e63f83",
   "metadata": {},
   "source": [
    "### Criando arestas"
   ]
  },
  {
   "cell_type": "code",
   "execution_count": 37,
   "id": "66c73acf",
   "metadata": {},
   "outputs": [],
   "source": [
    "# for i in range(len(list_voters)-1):\n",
    "#     for j in range(len(list_voters)-2):\n",
    "#         j=i+1\n",
    "#         if list_voters[j]>list_voters[i]:\n",
    "#             g.add_edge(list_voters[i],list_voters[j])\n",
    "#         else:\n",
    "#             g.add_edge(list_voters[j],list_voters[i])    \n",
    "\n",
    "\n",
    "for i in range(len(list_voters)-1):\n",
    "    if list_voters[i]>list_voters[i+1]:\n",
    "        g.add_edge(list_voters[i],list_voters[i+1])\n",
    "    else:\n",
    "        g.add_edge(list_voters[i+1],list_voters[i])  "
   ]
  },
  {
   "cell_type": "markdown",
   "id": "05099c07",
   "metadata": {},
   "source": [
    "### Analise exploratoria"
   ]
  },
  {
   "cell_type": "markdown",
   "id": "df290173",
   "metadata": {},
   "source": [
    "#### a)número de vértices, número de arestas, densidade;"
   ]
  },
  {
   "cell_type": "code",
   "execution_count": 38,
   "id": "c029e0a2",
   "metadata": {},
   "outputs": [
    {
     "name": "stdout",
     "output_type": "stream",
     "text": [
      "O número de vértices é 10415\n"
     ]
    }
   ],
   "source": [
    "#número de vértices\n",
    "n = g.num_vertices()\n",
    "print('O número de vértices é {0}'.format(n))"
   ]
  },
  {
   "cell_type": "code",
   "execution_count": 39,
   "id": "8f811e11",
   "metadata": {},
   "outputs": [
    {
     "name": "stdout",
     "output_type": "stream",
     "text": [
      "O número de arestas é 10414\n"
     ]
    }
   ],
   "source": [
    "#número de arestas\n",
    "m = g.num_edges()\n",
    "print('O número de arestas é {0}'.format(m))"
   ]
  },
  {
   "cell_type": "code",
   "execution_count": 40,
   "id": "ca0e697a",
   "metadata": {},
   "outputs": [
    {
     "name": "stdout",
     "output_type": "stream",
     "text": [
      "A densidade é 0.0001\n"
     ]
    }
   ],
   "source": [
    "##densidade\n",
    "if g.is_directed():\n",
    "    max_edges = n * (n - 1)\n",
    "else:\n",
    "    max_edges = n * (n - 1) // 2\n",
    "\n",
    "d = m / max_edges\n",
    "print('A densidade é {0}'.format(round(d,4)))"
   ]
  },
  {
   "cell_type": "markdown",
   "id": "d5fe1c3d",
   "metadata": {},
   "source": [
    "#### b)estatísticas e histograma do degree. (não é necessário in-degree e out-degree)"
   ]
  },
  {
   "cell_type": "code",
   "execution_count": 41,
   "id": "36d4aab0",
   "metadata": {},
   "outputs": [
    {
     "data": {
      "text/html": [
       "<div>\n",
       "<style scoped>\n",
       "    .dataframe tbody tr th:only-of-type {\n",
       "        vertical-align: middle;\n",
       "    }\n",
       "\n",
       "    .dataframe tbody tr th {\n",
       "        vertical-align: top;\n",
       "    }\n",
       "\n",
       "    .dataframe thead th {\n",
       "        text-align: right;\n",
       "    }\n",
       "</style>\n",
       "<table border=\"1\" class=\"dataframe\">\n",
       "  <thead>\n",
       "    <tr style=\"text-align: right;\">\n",
       "      <th></th>\n",
       "      <th>id</th>\n",
       "    </tr>\n",
       "  </thead>\n",
       "  <tbody>\n",
       "    <tr>\n",
       "      <th>0</th>\n",
       "      <td>Unknown</td>\n",
       "    </tr>\n",
       "    <tr>\n",
       "      <th>1</th>\n",
       "      <td>Siva1979</td>\n",
       "    </tr>\n",
       "    <tr>\n",
       "      <th>2</th>\n",
       "      <td>Mailer diablo</td>\n",
       "    </tr>\n",
       "    <tr>\n",
       "      <th>3</th>\n",
       "      <td>Merovingian</td>\n",
       "    </tr>\n",
       "    <tr>\n",
       "      <th>4</th>\n",
       "      <td>Wizardman</td>\n",
       "    </tr>\n",
       "    <tr>\n",
       "      <th>...</th>\n",
       "      <td>...</td>\n",
       "    </tr>\n",
       "    <tr>\n",
       "      <th>10410</th>\n",
       "      <td>Nunquam Dormio</td>\n",
       "    </tr>\n",
       "    <tr>\n",
       "      <th>10411</th>\n",
       "      <td>Eastlaw</td>\n",
       "    </tr>\n",
       "    <tr>\n",
       "      <th>10412</th>\n",
       "      <td>Yossiea</td>\n",
       "    </tr>\n",
       "    <tr>\n",
       "      <th>10413</th>\n",
       "      <td>P.wormer</td>\n",
       "    </tr>\n",
       "    <tr>\n",
       "      <th>10414</th>\n",
       "      <td>Nydigoveth</td>\n",
       "    </tr>\n",
       "  </tbody>\n",
       "</table>\n",
       "<p>10415 rows × 1 columns</p>\n",
       "</div>"
      ],
      "text/plain": [
       "                   id\n",
       "0             Unknown\n",
       "1            Siva1979\n",
       "2       Mailer diablo\n",
       "3         Merovingian\n",
       "4           Wizardman\n",
       "...               ...\n",
       "10410  Nunquam Dormio\n",
       "10411         Eastlaw\n",
       "10412         Yossiea\n",
       "10413        P.wormer\n",
       "10414      Nydigoveth\n",
       "\n",
       "[10415 rows x 1 columns]"
      ]
     },
     "execution_count": 41,
     "metadata": {},
     "output_type": "execute_result"
    }
   ],
   "source": [
    "data_targets = pd.DataFrame({k: list(v) for k, v in g.vp.items()})\n",
    "data_targets"
   ]
  },
  {
   "cell_type": "code",
   "execution_count": 42,
   "id": "6744a50a",
   "metadata": {},
   "outputs": [
    {
     "name": "stdout",
     "output_type": "stream",
     "text": [
      "<class 'pandas.core.frame.DataFrame'>\n",
      "RangeIndex: 10415 entries, 0 to 10414\n",
      "Data columns (total 2 columns):\n",
      " #   Column  Non-Null Count  Dtype \n",
      "---  ------  --------------  ----- \n",
      " 0   id      10415 non-null  object\n",
      " 1   degree  10415 non-null  int64 \n",
      "dtypes: int64(1), object(1)\n",
      "memory usage: 162.9+ KB\n"
     ]
    }
   ],
   "source": [
    "degrees = []\n",
    "for v in g.all_vertices():\n",
    "    degrees.append(v.total_degree())\n",
    "\n",
    "data_targets['degree'] = degrees\n",
    "data_targets.info()"
   ]
  },
  {
   "cell_type": "code",
   "execution_count": 43,
   "id": "f91c164c",
   "metadata": {},
   "outputs": [
    {
     "data": {
      "text/plain": [
       "count    10415.000000\n",
       "mean         1.999808\n",
       "std          0.013857\n",
       "min          1.000000\n",
       "25%          2.000000\n",
       "50%          2.000000\n",
       "75%          2.000000\n",
       "max          2.000000\n",
       "Name: degree, dtype: float64"
      ]
     },
     "execution_count": 43,
     "metadata": {},
     "output_type": "execute_result"
    },
    {
     "data": {
      "image/png": "[encoded data removed]",
      "text/plain": [
       "<Figure size 640x480 with 1 Axes>"
      ]
     },
     "metadata": {},
     "output_type": "display_data"
    }
   ],
   "source": [
    "import seaborn as sns\n",
    "sns.histplot(data_targets['degree'])\n",
    "data_targets['degree'].describe()"
   ]
  },
  {
   "cell_type": "markdown",
   "id": "b5dcdaa7",
   "metadata": {},
   "source": [
    "### Análise visual do grafo:\n",
    "\n",
    "\n",
    "\n",
    "\n",
    "\n",
    "\n",
    "\n",
    "\n",
    "\n"
   ]
  },
  {
   "cell_type": "markdown",
   "id": "8aa6fa61",
   "metadata": {},
   "source": [
    "#### salve o grafo em um arquivo;"
   ]
  },
  {
   "cell_type": "code",
   "execution_count": 57,
   "id": "ba54ad02",
   "metadata": {},
   "outputs": [],
   "source": [
    "gt_save(g, 'Rfa.net.gz')\n",
    "g = gt_clean(g)\n"
   ]
  },
  {
   "cell_type": "markdown",
   "id": "90dc6c4f",
   "metadata": {},
   "source": [
    "#### visualize o grafo a partir desse arquivo,algoritmo baseado em force-directed graph drawing;\n",
    "\n"
   ]
  },
  {
   "cell_type": "code",
   "execution_count": 54,
   "id": "14995b1f",
   "metadata": {},
   "outputs": [
    {
     "data": {
      "text/html": [
       "\n",
       "        <div id=\"55VBgbz5mwNQEi8HpZkVWW\"></div>\n",
       "        <script>netpixi.render('55VBgbz5mwNQEi8HpZkVWW', 'Rfa.net.gz', 1.7777777777777777, true, false, false);</script>\n",
       "    "
      ],
      "text/plain": [
       "<IPython.core.display.HTML object>"
      ]
     },
     "metadata": {},
     "output_type": "display_data"
    }
   ],
   "source": [
    "g = gt_load('../notebooks/Rfa.net.gz')\n",
    "m = gt_draw.sfdp_layout(g)\n",
    "gt_move(g, m)\n",
    "r=netpixi.render('Rfa.net.gz',infinite=True);"
   ]
  },
  {
   "cell_type": "markdown",
   "id": "625a5c66",
   "metadata": {},
   "source": [
    "#### Propriedades e tipos"
   ]
  },
  {
   "cell_type": "code",
   "execution_count": 55,
   "id": "14234250",
   "metadata": {},
   "outputs": [
    {
     "name": "stdout",
     "output_type": "stream",
     "text": [
      "GRAPH\n",
      "    description: str\n",
      "    readme: str\n",
      "VERTEX\n",
      "    label: str\n",
      "    value: str\n",
      "EDGE\n",
      "    no properties\n"
     ]
    }
   ],
   "source": [
    "netpixi.peek('../notebooks/Rfa.net.gz')"
   ]
  },
  {
   "cell_type": "markdown",
   "id": "9f2e083a",
   "metadata": {},
   "source": [
    "#### ajuste as propriedades visuais do grafo"
   ]
  },
  {
   "cell_type": "code",
   "execution_count": 56,
   "id": "7e69b697",
   "metadata": {},
   "outputs": [
    {
     "data": {
      "text/html": [
       "\n",
       "        <div id=\"b2J2ad3CsGQAucXYuWHA56\"></div>\n",
       "        <script>netpixi.call('b2J2ad3CsGQAucXYuWHA56', '55VBgbz5mwNQEi8HpZkVWW', 'changeGraph', 'eyJ0eXBlIjogInNldHRpbmdzIiwgInByb3BzIjogeyJncmFwaCI6IHsiY29sb3IiOiAxNjc3NzIxNX19fQo=');</script>\n",
       "    "
      ],
      "text/plain": [
       "<IPython.core.display.HTML object>"
      ]
     },
     "metadata": {},
     "output_type": "display_data"
    },
    {
     "data": {
      "text/html": [
       "\n",
       "        <div id=\"K8xQV6gPV2TiyZ8KWV6cMB\"></div>\n",
       "        <script>netpixi.call('K8xQV6gPV2TiyZ8KWV6cMB', '55VBgbz5mwNQEi8HpZkVWW', 'changeGraph', 'eyJ0eXBlIjogInNldHRpbmdzIiwgInByb3BzIjogeyJ2ZXJ0ZXgiOiB7ImNvbG9yIjogMCwgInNpemUiOiAxMH19fQo=');</script>\n",
       "    "
      ],
      "text/plain": [
       "<IPython.core.display.HTML object>"
      ]
     },
     "metadata": {},
     "output_type": "display_data"
    },
    {
     "data": {
      "text/html": [
       "\n",
       "        <div id=\"mEqxtqZbSV3JqqdPAWeAwz\"></div>\n",
       "        <script>netpixi.call('mEqxtqZbSV3JqqdPAWeAwz', '55VBgbz5mwNQEi8HpZkVWW', 'changeGraph', 'eyJpZCI6IDAsICJ0eXBlIjogInZlcnRleCIsICJwcm9wcyI6IHsiY29sb3IiOiAxNjcxMTY4MCwgInNpemUiOiAyMH19Cg==');</script>\n",
       "    "
      ],
      "text/plain": [
       "<IPython.core.display.HTML object>"
      ]
     },
     "metadata": {},
     "output_type": "display_data"
    },
    {
     "data": {
      "text/html": [
       "\n",
       "        <div id=\"Jkuk2W57iM2o5DjZDRUNVD\"></div>\n",
       "        <script>netpixi.call('Jkuk2W57iM2o5DjZDRUNVD', '55VBgbz5mwNQEi8HpZkVWW', 'changeGraph', 'eyJpZCI6IDEsICJ0eXBlIjogInZlcnRleCIsICJwcm9wcyI6IHsiY29sb3IiOiAxNjcxMTY4MCwgInNpemUiOiAyMH19Cg==');</script>\n",
       "    "
      ],
      "text/plain": [
       "<IPython.core.display.HTML object>"
      ]
     },
     "metadata": {},
     "output_type": "display_data"
    },
    {
     "data": {
      "text/html": [
       "\n",
       "        <div id=\"ixMtuK8kwNwJDuu45XSaGE\"></div>\n",
       "        <script>netpixi.call('ixMtuK8kwNwJDuu45XSaGE', '55VBgbz5mwNQEi8HpZkVWW', 'changeGraph', 'eyJ0eXBlIjogInNldHRpbmdzIiwgInByb3BzIjogeyJlZGdlIjogeyJjb2xvciI6IDAsICJ3aWR0aCI6IDEsICJjdXJ2ZTEiOiAxLCAiY3VydmUyIjogMX19fQo=');</script>\n",
       "    "
      ],
      "text/plain": [
       "<IPython.core.display.HTML object>"
      ]
     },
     "metadata": {},
     "output_type": "display_data"
    },
    {
     "data": {
      "text/html": [
       "\n",
       "        <div id=\"5HPq3ZjGSqL5rmEL559Uq9\"></div>\n",
       "        <script>netpixi.call('5HPq3ZjGSqL5rmEL559Uq9', '55VBgbz5mwNQEi8HpZkVWW', 'changeGraph', 'eyJzb3VyY2UiOiAwLCAidGFyZ2V0IjogMSwgInR5cGUiOiAiZWRnZSIsICJwcm9wcyI6IHsiY29sb3IiOiAyNTUsICJ3aWR0aCI6IDJ9fQo=');</script>\n",
       "    "
      ],
      "text/plain": [
       "<IPython.core.display.HTML object>"
      ]
     },
     "metadata": {},
     "output_type": "display_data"
    }
   ],
   "source": [
    "# mudar a cor de fundo do grafo\n",
    "r.graph(color=0xffffff)\n",
    "\n",
    "# mudar a cor e o tamanho dos vértices\n",
    "r.vertex_default(color=0x000000, size=10)\n",
    "\n",
    "# mudar um vértice específico a partir de seu id\n",
    "r.vertex(0, color=0xff0000, size=20)\n",
    "r.vertex(1, color=0xff0000, size=20)\n",
    "\n",
    "# mudar a cor, a espessura e a curvatura das arestas\n",
    "r.edge_default(color=0x000000, width=1, curve1=1, curve2=1)\n",
    "\n",
    "# mudar uma aresta específica a partir dos ids de sua origem e destino\n",
    "r.edge(0, 1, color=0x0000ff, width=2)"
   ]
  },
  {
   "cell_type": "code",
   "execution_count": null,
   "id": "b389400d",
   "metadata": {},
   "outputs": [],
   "source": []
  }
 ],
 "metadata": {
  "kernelspec": {
   "display_name": "Python 3 (ipykernel)",
   "language": "python",
   "name": "python3"
  },
  "language_info": {
   "codemirror_mode": {
    "name": "ipython",
    "version": 3
   },
   "file_extension": ".py",
   "mimetype": "text/x-python",
   "name": "python",
   "nbconvert_exporter": "python",
   "pygments_lexer": "ipython3",
   "version": "3.10.10"
  }
 },
 "nbformat": 4,
 "nbformat_minor": 5
}
