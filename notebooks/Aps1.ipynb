{
 "cells": [
  {
   "cell_type": "markdown",
   "id": "4c282e92",
   "metadata": {},
   "source": [
    "## Redes sociais - APS(1)"
   ]
  },
  {
   "cell_type": "markdown",
   "id": "8f17fe76",
   "metadata": {},
   "source": [
    "Diogo Duarte, Pedro Dannecker e Gabriel de Araújo Alves\n",
    "\n"
   ]
  },
  {
   "cell_type": "markdown",
   "id": "e8cbbd3b",
   "metadata": {},
   "source": [
    "### Importando bibliotecas"
   ]
  },
  {
   "cell_type": "code",
   "execution_count": 5,
   "id": "5453f548",
   "metadata": {},
   "outputs": [],
   "source": [
    "import pandas as pd\n",
    "import csv\n",
    "from graph_tool import Graph\n",
    "import os\n",
    "from graph_tool import util\n",
    "# from netpixi.data.gt import *\n",
    "# import netpixi"
   ]
  },
  {
   "cell_type": "markdown",
   "id": "0949289a",
   "metadata": {},
   "source": [
    "### Analisando os dados iniciais"
   ]
  },
  {
   "cell_type": "markdown",
   "id": "567638f4",
   "metadata": {},
   "source": [
    "### Criando o grafo"
   ]
  },
  {
   "cell_type": "code",
   "execution_count": 6,
   "id": "f7e15b69",
   "metadata": {},
   "outputs": [],
   "source": [
    "from netpixi.integration.gt import Graph\n",
    "\n",
    "g = Graph(directed=False) # não-dirigido"
   ]
  },
  {
   "cell_type": "code",
   "execution_count": null,
   "id": "dfefba3f",
   "metadata": {},
   "outputs": [],
   "source": []
  },
  {
   "cell_type": "markdown",
   "id": "07aeaaaf",
   "metadata": {},
   "source": [
    "### Analise exploratoria"
   ]
  },
  {
   "cell_type": "markdown",
   "id": "217e5958",
   "metadata": {},
   "source": [
    "#### a)número de vértices, número de arestas, densidade;"
   ]
  },
  {
   "cell_type": "markdown",
   "id": "03d021de",
   "metadata": {},
   "source": [
    "#### b)estatísticas e histograma do degree. (não é necessário in-degree e out-degree)"
   ]
  },
  {
   "cell_type": "markdown",
   "id": "dbfc60d3",
   "metadata": {},
   "source": [
    "### Análise visual do grafo:\n",
    "\n",
    "\n",
    "\n",
    "\n",
    "\n",
    "\n",
    "\n",
    "\n",
    "\n"
   ]
  },
  {
   "cell_type": "markdown",
   "id": "97c4e5ed",
   "metadata": {},
   "source": [
    "#### a)salve o grafo em um arquivo;"
   ]
  },
  {
   "cell_type": "markdown",
   "id": "c54ab0e1",
   "metadata": {},
   "source": [
    "#### b)visualize o grafo a partir desse arquivo;"
   ]
  },
  {
   "cell_type": "markdown",
   "id": "fbc6e632",
   "metadata": {},
   "source": [
    "#### c)posicione os vértices de acordo com um algoritmo baseado em force-directed graph drawing, para evidenciar grupos; (pode ser qualquer um deles)"
   ]
  },
  {
   "cell_type": "markdown",
   "id": "66e2000f",
   "metadata": {},
   "source": [
    "#### d)ajuste as propriedades visuais do grafo para deixá-lo o mais claro possível; (por exemplo, se a visualização é simplesmente uma massa de vértices que cobre todas as arestas, reduza os vértices para tentar deixar as arestas mais visíveis)\n"
   ]
  },
  {
   "cell_type": "markdown",
   "id": "9ad868a8",
   "metadata": {},
   "source": [
    "#### e)exporte o grafo para uma imagem PNG. (há um botão para isso)\n"
   ]
  },
  {
   "cell_type": "code",
   "execution_count": null,
   "id": "b0b743c7",
   "metadata": {},
   "outputs": [],
   "source": []
  }
 ],
 "metadata": {
  "kernelspec": {
   "display_name": "Python 3 (ipykernel)",
   "language": "python",
   "name": "python3"
  },
  "language_info": {
   "codemirror_mode": {
    "name": "ipython",
    "version": 3
   },
   "file_extension": ".py",
   "mimetype": "text/x-python",
   "name": "python",
   "nbconvert_exporter": "python",
   "pygments_lexer": "ipython3",
   "version": "3.10.10"
  }
 },
 "nbformat": 4,
 "nbformat_minor": 5
}
